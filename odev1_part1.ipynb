{
  "nbformat": 4,
  "nbformat_minor": 0,
  "metadata": {
    "colab": {
      "provenance": []
    },
    "kernelspec": {
      "name": "python3",
      "display_name": "Python 3"
    },
    "language_info": {
      "name": "python"
    }
  },
  "cells": [
    {
      "cell_type": "code",
      "execution_count": null,
      "metadata": {
        "colab": {
          "base_uri": "https://localhost:8080/"
        },
        "id": "Ok9QRQIRY6iG",
        "outputId": "853d6c3c-00e8-4187-a155-c84b1e53b2d5"
      },
      "outputs": [
        {
          "output_type": "stream",
          "name": "stdout",
          "text": [
            "[[0.8304607  0.71350927]\n",
            " [0.79828779 0.27512489]\n",
            " [0.59240353 0.30174561]\n",
            " [0.47122809 0.51260298]\n",
            " [0.17497867 0.54649261]\n",
            " [0.60214315 0.55684236]\n",
            " [0.99367734 0.64185415]\n",
            " [0.98493188 0.72086809]\n",
            " [0.13594199 0.73575788]\n",
            " [0.52390299 0.2391813 ]]\n"
          ]
        }
      ],
      "source": [
        "#2\n",
        "import numpy as np\n",
        "\n",
        "a=np.random.rand(20)\n",
        "a_shaped=a.reshape(10,2)\n",
        "print(a_shaped)"
      ]
    },
    {
      "cell_type": "code",
      "source": [
        "#3\n",
        "import numpy as np\n",
        "m = np.arange(30).reshape(5,6)\n",
        "a_sliced=m[:,2]\n",
        "b_sliced=m[:,4]\n",
        "a_index=2\n",
        "b_index=4\n",
        "c=np.delete(m,2,axis=1)\n",
        "c=np.delete(c,3,axis=1)\n",
        "print(\"A GRUBU: \\n\"),print(a_sliced)\n",
        "print(\"B GRUBU: \\n\"),print(b_sliced)\n",
        "print(\"C GRUBU: \\n\"),print(c)"
      ],
      "metadata": {
        "colab": {
          "base_uri": "https://localhost:8080/"
        },
        "id": "TaB20l8wZcIf",
        "outputId": "1bed57cf-5bc0-434c-9b9c-6e84843c5802"
      },
      "execution_count": null,
      "outputs": [
        {
          "output_type": "stream",
          "name": "stdout",
          "text": [
            "A GRUBU: \n",
            "\n",
            "[ 2  8 14 20 26]\n",
            "B GRUBU: \n",
            "\n",
            "[ 4 10 16 22 28]\n",
            "C GRUBU: \n",
            "\n",
            "[[ 0  1  3  5]\n",
            " [ 6  7  9 11]\n",
            " [12 13 15 17]\n",
            " [18 19 21 23]\n",
            " [24 25 27 29]]\n"
          ]
        },
        {
          "output_type": "execute_result",
          "data": {
            "text/plain": [
              "(None, None)"
            ]
          },
          "metadata": {},
          "execution_count": 10
        }
      ]
    },
    {
      "cell_type": "code",
      "source": [
        "#4\n",
        "import numpy as np\n",
        "m = np.arange(30).reshape(5,6)\n",
        "b=m[:3,]\n",
        "a=m[:(5-3),]\n",
        "print(a)\n",
        "print(\"\\n\")\n",
        "print(b)"
      ],
      "metadata": {
        "colab": {
          "base_uri": "https://localhost:8080/"
        },
        "id": "qFdWP3RtZcfJ",
        "outputId": "6cc1d7ba-ecdd-464a-a902-0075c5e5280b"
      },
      "execution_count": null,
      "outputs": [
        {
          "output_type": "stream",
          "name": "stdout",
          "text": [
            "[[ 0  1  2  3  4  5]\n",
            " [ 6  7  8  9 10 11]]\n",
            "\n",
            "\n",
            "[[ 0  1  2  3  4  5]\n",
            " [ 6  7  8  9 10 11]\n",
            " [12 13 14 15 16 17]]\n"
          ]
        }
      ]
    },
    {
      "cell_type": "code",
      "source": [
        "#5\n",
        "# sutunlar y ekseni satirlar x ekseni olarak varsayip aldim\n",
        "import numpy as np\n",
        "import pandas as pd\n",
        "data=np.random.randint(0,20,(10,2))\n",
        "df=pd.DataFrame(data)\n",
        "print(\"\\n\"),\n",
        "y=[\"sutun1\",\"sutun2\"]\n",
        "data=df.columns=y\n",
        "print(df)"
      ],
      "metadata": {
        "colab": {
          "base_uri": "https://localhost:8080/"
        },
        "id": "_sq78ReLZcvR",
        "outputId": "e15187e6-b057-4521-9e58-84d0cd803445"
      },
      "execution_count": null,
      "outputs": [
        {
          "output_type": "stream",
          "name": "stdout",
          "text": [
            "\n",
            "\n",
            "   sutun1  sutun2\n",
            "0      13      10\n",
            "1       4       6\n",
            "2       6      11\n",
            "3       7       0\n",
            "4       0      15\n",
            "5       6       0\n",
            "6      15       0\n",
            "7       8      11\n",
            "8       7      18\n",
            "9      11       5\n"
          ]
        }
      ]
    },
    {
      "cell_type": "code",
      "source": [
        "#6\n",
        "# C dilinde alisik oldugumuz traverse komutu yazmak istedim python for dongulerinde oradaki degiskenin onemsizliginin farkinda olarak kodumu yazdim.\n",
        "\n",
        "x=[]\n",
        "for traverse in range(1,11):\n",
        "    bucket=f\"i{traverse}\"\n",
        "    x.append(bucket)\n",
        "print(x)\n",
        "df.index=x\n",
        "print(df)"
      ],
      "metadata": {
        "colab": {
          "base_uri": "https://localhost:8080/"
        },
        "id": "59RlEMExZewO",
        "outputId": "bdd2d5b0-fb68-44ca-a489-6d918ab2d89e"
      },
      "execution_count": null,
      "outputs": [
        {
          "output_type": "stream",
          "name": "stdout",
          "text": [
            "['i1', 'i2', 'i3', 'i4', 'i5', 'i6', 'i7', 'i8', 'i9', 'i10']\n",
            "     sutun1  sutun2\n",
            "i1       13      10\n",
            "i2        4       6\n",
            "i3        6      11\n",
            "i4        7       0\n",
            "i5        0      15\n",
            "i6        6       0\n",
            "i7       15       0\n",
            "i8        8      11\n",
            "i9        7      18\n",
            "i10      11       5\n"
          ]
        }
      ]
    },
    {
      "cell_type": "code",
      "source": [
        "#7 s Subclass kisaltmasidir\n",
        "sozluk = {\"A\" : {\"D\":[1,2]},  \"B\" : {\"E\": [3,99,5]},  \"C\" : [\"F\",6]}\n",
        "s1=sozluk[\"B\"]\n",
        "s2=s1[\"E\"]\n",
        "s2[1]=100\n",
        "print(s2[1])"
      ],
      "metadata": {
        "colab": {
          "base_uri": "https://localhost:8080/"
        },
        "id": "nv9ieeVjZehU",
        "outputId": "eb18bd55-f444-4e51-abc6-25942919bcfc"
      },
      "execution_count": null,
      "outputs": [
        {
          "output_type": "stream",
          "name": "stdout",
          "text": [
            "100\n"
          ]
        }
      ]
    },
    {
      "cell_type": "code",
      "source": [
        "import numpy as np\n",
        "\n",
        "dizi=np.arange(1,11)\n",
        "dizi=dizi.reshape(5,2)\n",
        "print(dizi)"
      ],
      "metadata": {
        "colab": {
          "base_uri": "https://localhost:8080/"
        },
        "id": "7ofS27GAZeVN",
        "outputId": "da9b8544-05b0-4482-f164-faa8fc98c705"
      },
      "execution_count": null,
      "outputs": [
        {
          "output_type": "stream",
          "name": "stdout",
          "text": [
            "[[ 1  2]\n",
            " [ 3  4]\n",
            " [ 5  6]\n",
            " [ 7  8]\n",
            " [ 9 10]]\n"
          ]
        }
      ]
    },
    {
      "cell_type": "code",
      "source": [
        "import pandas as pd\n",
        "df=pd.DataFrame(dizi)\n",
        "x1=df.iloc[:,:1]\n",
        "x2=df.iloc[:,1:2]\n",
        "x3= np.append(x1, x2)\n",
        "x3=x3.reshape(2,5)\n",
        "print(x3)"
      ],
      "metadata": {
        "colab": {
          "base_uri": "https://localhost:8080/"
        },
        "id": "AbmF6ZfaZeB6",
        "outputId": "979c6c32-dcfa-4b6e-d1e0-07b77333612a"
      },
      "execution_count": null,
      "outputs": [
        {
          "output_type": "stream",
          "name": "stdout",
          "text": [
            "[[ 1  3  5  7  9]\n",
            " [ 2  4  6  8 10]]\n"
          ]
        }
      ]
    },
    {
      "cell_type": "code",
      "source": [
        "#10\n",
        "import numpy as np\n",
        "a=np.array([1,2,3,4])\n",
        "b=np.array([4,5,6,7])\n",
        "c=np.append(a,b)\n",
        "c=c.reshape(2,4)\n",
        "print(c)"
      ],
      "metadata": {
        "colab": {
          "base_uri": "https://localhost:8080/"
        },
        "id": "cHXPWnXvZd79",
        "outputId": "dbc245bb-7756-4178-d68e-fc5205f15451"
      },
      "execution_count": null,
      "outputs": [
        {
          "output_type": "stream",
          "name": "stdout",
          "text": [
            "[[1 2 3 4]\n",
            " [4 5 6 7]]\n"
          ]
        }
      ]
    },
    {
      "cell_type": "code",
      "source": [
        "x=np.random.randint(10,21,size=10)\n",
        "import pandas as pd\n",
        "import numpy as np\n",
        "x.mean()\n",
        "dene=[]\n",
        "for i in x:\n",
        "    ortalama=x.mean()\n",
        "    if ortalama < i:\n",
        "        dene.append(i)\n",
        "print(dene)\n",
        "print(x.mean())\n",
        "print(x)"
      ],
      "metadata": {
        "colab": {
          "base_uri": "https://localhost:8080/"
        },
        "id": "x4y7NkLlZd0G",
        "outputId": "1e2f58ed-5dac-4865-83bb-ae4e302214ec"
      },
      "execution_count": null,
      "outputs": [
        {
          "output_type": "stream",
          "name": "stdout",
          "text": [
            "[19, 16, 18, 16, 19]\n",
            "14.8\n",
            "[19 12 16 13 12 13 18 16 10 19]\n"
          ]
        }
      ]
    },
    {
      "cell_type": "code",
      "source": [
        "import numpy as np\n",
        "x=np.random.randint(-50,50,size=10)\n",
        "# Formulu yaziyorum\n",
        "z_score=(x-x.mean())/x.std()\n",
        "print(z_score)\n",
        "import matplotlib.pyplot as plt\n",
        "\n",
        "plt.hist(z_score,bins=22),"
      ],
      "metadata": {
        "colab": {
          "base_uri": "https://localhost:8080/",
          "height": 604
        },
        "id": "iMv2cgaMZdd5",
        "outputId": "fa35a5d2-41d2-4419-def5-9c2a179b5eff"
      },
      "execution_count": null,
      "outputs": [
        {
          "output_type": "stream",
          "name": "stdout",
          "text": [
            "[-1.38672577  1.07534609 -0.73500086  0.27879343  1.03913915  1.03913915\n",
            " -0.69879392  1.32879466 -1.02465638 -0.91603556]\n"
          ]
        },
        {
          "output_type": "execute_result",
          "data": {
            "text/plain": [
              "((array([1., 0., 1., 1., 0., 2., 0., 0., 0., 0., 0., 0., 0., 1., 0., 0., 0.,\n",
              "         0., 0., 3., 0., 1.]),\n",
              "  array([-1.38672577, -1.26329302, -1.13986027, -1.01642753, -0.89299478,\n",
              "         -0.76956203, -0.64612929, -0.52269654, -0.39926379, -0.27583104,\n",
              "         -0.1523983 , -0.02896555,  0.0944672 ,  0.21789994,  0.34133269,\n",
              "          0.46476544,  0.58819818,  0.71163093,  0.83506368,  0.95849642,\n",
              "          1.08192917,  1.20536192,  1.32879466]),\n",
              "  <BarContainer object of 22 artists>),)"
            ]
          },
          "metadata": {},
          "execution_count": 19
        },
        {
          "output_type": "display_data",
          "data": {
            "text/plain": [
              "<Figure size 640x480 with 1 Axes>"
            ],
            "image/png": "[encoded data removed]"
          },
          "metadata": {}
        }
      ]
    },
    {
      "cell_type": "code",
      "source": [
        "#13\n",
        "import pandas as pd\n",
        "df = pd.DataFrame({'gruplar': ['A', 'B', 'C', 'A', 'B', 'C'],\n",
        "                   'veri': [10,11,52,23,43,55]}, columns=['gruplar', 'veri'])\n",
        "#Elimizde 1 tane veri oldugu icin o grubun ortalamasi o sayiya esittir bir anlam ifade etmez\n",
        "df.veri.mean()"
      ],
      "metadata": {
        "colab": {
          "base_uri": "https://localhost:8080/"
        },
        "id": "IR6zwtYtZtpS",
        "outputId": "e09fde95-76ba-4847-b5bf-585a735577b0"
      },
      "execution_count": null,
      "outputs": [
        {
          "output_type": "execute_result",
          "data": {
            "text/plain": [
              "32.333333333333336"
            ]
          },
          "metadata": {},
          "execution_count": 20
        }
      ]
    },
    {
      "cell_type": "markdown",
      "source": [
        "# Alttaki kod hata verecek cunku newyorkveri dosyasi diye bir dosyamiz yok\n",
        "\n"
      ],
      "metadata": {
        "id": "6wHjxTkAZ6gl"
      }
    },
    {
      "cell_type": "markdown",
      "source": [],
      "metadata": {
        "id": "ZDsMW4TyZ5K_"
      }
    },
    {
      "cell_type": "code",
      "source": [
        "import pandas as pd\n",
        "\n",
        "#yeni_veri=pd.read_csv(\"newyork_kira_verileri.csv\",sep=;)\n",
        "#yeni_veri.head("
      ],
      "metadata": {
        "id": "tG9bCIA_ZtOk"
      },
      "execution_count": null,
      "outputs": []
    },
    {
      "cell_type": "code",
      "source": [
        "def funk(_input):\n",
        "    buyu=_input.upper()\n",
        "    return buyu\n",
        "print(funk(\"ahmet\"))"
      ],
      "metadata": {
        "colab": {
          "base_uri": "https://localhost:8080/"
        },
        "id": "Kj7_YhbzZtFp",
        "outputId": "c388211c-4f72-4c9f-9110-6acdfb1f2719"
      },
      "execution_count": null,
      "outputs": [
        {
          "output_type": "stream",
          "name": "stdout",
          "text": [
            "AHMET\n"
          ]
        }
      ]
    }
  ]
}